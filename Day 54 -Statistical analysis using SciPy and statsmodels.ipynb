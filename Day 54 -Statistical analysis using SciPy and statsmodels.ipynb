{
 "cells": [
  {
   "cell_type": "code",
   "execution_count": 112,
   "id": "e4ea10fa-4dcd-4a01-b810-9ea7e426c4ab",
   "metadata": {},
   "outputs": [
    {
     "name": "stdout",
     "output_type": "stream",
     "text": [
      "Requirement already satisfied: scipy in c:\\users\\ajayc\\anaconda3\\lib\\site-packages (1.13.1)\n",
      "Requirement already satisfied: statsmodels in c:\\users\\ajayc\\anaconda3\\lib\\site-packages (0.14.2)\n",
      "Requirement already satisfied: numpy<2.3,>=1.22.4 in c:\\users\\ajayc\\anaconda3\\lib\\site-packages (from scipy) (1.26.4)\n",
      "Requirement already satisfied: pandas!=2.1.0,>=1.4 in c:\\users\\ajayc\\anaconda3\\lib\\site-packages (from statsmodels) (2.2.2)\n",
      "Requirement already satisfied: patsy>=0.5.6 in c:\\users\\ajayc\\anaconda3\\lib\\site-packages (from statsmodels) (0.5.6)\n",
      "Requirement already satisfied: packaging>=21.3 in c:\\users\\ajayc\\anaconda3\\lib\\site-packages (from statsmodels) (24.1)\n",
      "Requirement already satisfied: python-dateutil>=2.8.2 in c:\\users\\ajayc\\anaconda3\\lib\\site-packages (from pandas!=2.1.0,>=1.4->statsmodels) (2.9.0.post0)\n",
      "Requirement already satisfied: pytz>=2020.1 in c:\\users\\ajayc\\anaconda3\\lib\\site-packages (from pandas!=2.1.0,>=1.4->statsmodels) (2024.1)\n",
      "Requirement already satisfied: tzdata>=2022.7 in c:\\users\\ajayc\\anaconda3\\lib\\site-packages (from pandas!=2.1.0,>=1.4->statsmodels) (2023.3)\n",
      "Requirement already satisfied: six in c:\\users\\ajayc\\anaconda3\\lib\\site-packages (from patsy>=0.5.6->statsmodels) (1.16.0)\n",
      "Note: you may need to restart the kernel to use updated packages.\n"
     ]
    }
   ],
   "source": [
    "pip install scipy statsmodels"
   ]
  },
  {
   "cell_type": "code",
   "execution_count": 113,
   "id": "ca05b726-7dfb-4d5c-996d-ddf704a62a25",
   "metadata": {},
   "outputs": [],
   "source": [
    "# to deactivate warnings\n",
    "import warnings\n",
    "import sys\n",
    "if not sys.warnoptions:\n",
    "    warnings.simplefilter(\"ignore\")"
   ]
  },
  {
   "cell_type": "markdown",
   "id": "dd24aa6d-5c5a-4057-b79e-18871bb54ae4",
   "metadata": {},
   "source": [
    "#Import Libraries"
   ]
  },
  {
   "cell_type": "code",
   "execution_count": 114,
   "id": "199b5f43-9d42-491b-8657-43c04fe54ff5",
   "metadata": {},
   "outputs": [],
   "source": [
    "import numpy as np\n",
    "import pandas as pd\n",
    "from scipy import stats\n",
    "import statsmodels.api as sm\n",
    "import statsmodels.formula.api as smf"
   ]
  },
  {
   "cell_type": "markdown",
   "id": "03f6e90f-b97c-4470-bdbb-a770e2aeabb8",
   "metadata": {},
   "source": [
    "# Statistical Analysis with SciPy"
   ]
  },
  {
   "cell_type": "markdown",
   "id": "c13fb085-c428-4f74-b4bd-1fd0a38c34c9",
   "metadata": {},
   "source": [
    "# Descriptive Statistics"
   ]
  },
  {
   "cell_type": "code",
   "execution_count": 118,
   "id": "91ae6a79-3a67-4700-ad99-1bff5d168a5b",
   "metadata": {},
   "outputs": [
    {
     "name": "stdout",
     "output_type": "stream",
     "text": [
      "Mean: 30.0, Median: 30.0, Standard Deviation: 14.142135623730951\n"
     ]
    }
   ],
   "source": [
    "data = np.array([10, 20, 30, 40, 50])\n",
    "\n",
    "# Mean, Median, Standard Deviation\n",
    "mean = np.mean(data)\n",
    "median = np.median(data)\n",
    "std_dev = np.std(data)\n",
    "\n",
    "print(f\"Mean: {mean}, Median: {median}, Standard Deviation: {std_dev}\")\n"
   ]
  },
  {
   "cell_type": "markdown",
   "id": "e72c419c-d5a1-4a97-855f-8bc651840c14",
   "metadata": {},
   "source": [
    "# Hypothesis Testing"
   ]
  },
  {
   "cell_type": "markdown",
   "id": "e04ac127-67f2-4bfb-b876-98100b4dfae3",
   "metadata": {},
   "source": [
    "# One-Sample t-Test:"
   ]
  },
  {
   "cell_type": "code",
   "execution_count": 120,
   "id": "87d7ffd2-5607-4a4a-a578-c673cc78d0ff",
   "metadata": {},
   "outputs": [
    {
     "name": "stdout",
     "output_type": "stream",
     "text": [
      "t-statistic: 0.7071067811865475, p-value: 0.5185185185185183\n"
     ]
    }
   ],
   "source": [
    "t_stat, p_val = stats.ttest_1samp(data, popmean=25)\n",
    "print(f\"t-statistic: {t_stat}, p-value: {p_val}\")\n"
   ]
  },
  {
   "cell_type": "markdown",
   "id": "e75edf73-ce84-4d3b-9385-ea8caee89053",
   "metadata": {},
   "source": [
    "# Two-Sample t-Test:"
   ]
  },
  {
   "cell_type": "code",
   "execution_count": 122,
   "id": "f9138d5e-7e65-4eb2-b1f9-57435412b30e",
   "metadata": {},
   "outputs": [
    {
     "name": "stdout",
     "output_type": "stream",
     "text": [
      "t-statistic: -0.5477225575051661, p-value: 0.6036450565101363\n"
     ]
    }
   ],
   "source": [
    "group1 = [5, 15, 25, 35]\n",
    "group2 = [10, 20, 30, 40]\n",
    "t_stat, p_val = stats.ttest_ind(group1, group2)\n",
    "print(f\"t-statistic: {t_stat}, p-value: {p_val}\")\n"
   ]
  },
  {
   "cell_type": "markdown",
   "id": "af466bb7-0f88-420b-a445-545d4f339aa0",
   "metadata": {},
   "source": [
    "# Chi-Square Test"
   ]
  },
  {
   "cell_type": "code",
   "execution_count": 124,
   "id": "06337db2-d8f7-4dc7-b8e2-f6a91af11964",
   "metadata": {},
   "outputs": [
    {
     "name": "stdout",
     "output_type": "stream",
     "text": [
      "Chi-square statistic: 4.214285714285714, p-value: 0.12158485594365533\n"
     ]
    }
   ],
   "source": [
    "observed = np.array([50, 30, 20])\n",
    "expected = np.array([40, 35, 25])\n",
    "chi2_stat, p_val = stats.chisquare(f_obs=observed, f_exp=expected)\n",
    "print(f\"Chi-square statistic: {chi2_stat}, p-value: {p_val}\")\n"
   ]
  },
  {
   "cell_type": "markdown",
   "id": "1c9c90b3-69c5-48d8-8ab3-c79b77521f9d",
   "metadata": {},
   "source": [
    "# ANOVA Test"
   ]
  },
  {
   "cell_type": "code",
   "execution_count": 126,
   "id": "0426f28a-32d2-4b69-a703-7c930f0a8921",
   "metadata": {},
   "outputs": [
    {
     "name": "stdout",
     "output_type": "stream",
     "text": [
      "F-statistic: 27.0, p-value: 0.0010000000000000002\n"
     ]
    }
   ],
   "source": [
    "group1 = [5, 10, 15]\n",
    "group2 = [20, 25, 30]\n",
    "group3 = [35, 40, 45]\n",
    "f_stat, p_val = stats.f_oneway(group1, group2, group3)\n",
    "print(f\"F-statistic: {f_stat}, p-value: {p_val}\")\n"
   ]
  },
  {
   "cell_type": "markdown",
   "id": "1d52ff50-8578-4c54-841a-8efed9894e80",
   "metadata": {},
   "source": [
    "# Statistical Analysis with statsmodels\n",
    "Linear Regression\n",
    "Using statsmodels.api:"
   ]
  },
  {
   "cell_type": "code",
   "execution_count": 128,
   "id": "27fd69ec-3914-459e-aa71-8ee67fd5b2aa",
   "metadata": {},
   "outputs": [
    {
     "name": "stdout",
     "output_type": "stream",
     "text": [
      "                            OLS Regression Results                            \n",
      "==============================================================================\n",
      "Dep. Variable:                      y   R-squared:                       0.600\n",
      "Model:                            OLS   Adj. R-squared:                  0.467\n",
      "Method:                 Least Squares   F-statistic:                     4.500\n",
      "Date:                Tue, 28 Jan 2025   Prob (F-statistic):              0.124\n",
      "Time:                        12:32:52   Log-Likelihood:                -5.2598\n",
      "No. Observations:                   5   AIC:                             14.52\n",
      "Df Residuals:                       3   BIC:                             13.74\n",
      "Df Model:                           1                                         \n",
      "Covariance Type:            nonrobust                                         \n",
      "==============================================================================\n",
      "                 coef    std err          t      P>|t|      [0.025      0.975]\n",
      "------------------------------------------------------------------------------\n",
      "const          2.2000      0.938      2.345      0.101      -0.785       5.185\n",
      "x1             0.6000      0.283      2.121      0.124      -0.300       1.500\n",
      "==============================================================================\n",
      "Omnibus:                          nan   Durbin-Watson:                   2.017\n",
      "Prob(Omnibus):                    nan   Jarque-Bera (JB):                0.570\n",
      "Skew:                           0.289   Prob(JB):                        0.752\n",
      "Kurtosis:                       1.450   Cond. No.                         8.37\n",
      "==============================================================================\n",
      "\n",
      "Notes:\n",
      "[1] Standard Errors assume that the covariance matrix of the errors is correctly specified.\n"
     ]
    }
   ],
   "source": [
    "X = sm.add_constant([1, 2, 3, 4, 5])  # Add constant for intercept\n",
    "y = [2, 4, 5, 4, 5]\n",
    "\n",
    "model = sm.OLS(y, X).fit()\n",
    "print(model.summary())\n"
   ]
  },
  {
   "cell_type": "markdown",
   "id": "52125e34-ee53-48ef-bf77-8cad8ff38e99",
   "metadata": {},
   "source": [
    "# Using Formula API:"
   ]
  },
  {
   "cell_type": "code",
   "execution_count": 130,
   "id": "f21b6222-747c-423d-87b6-5ec2e983405f",
   "metadata": {},
   "outputs": [
    {
     "name": "stdout",
     "output_type": "stream",
     "text": [
      "                            OLS Regression Results                            \n",
      "==============================================================================\n",
      "Dep. Variable:                      y   R-squared:                       0.600\n",
      "Model:                            OLS   Adj. R-squared:                  0.467\n",
      "Method:                 Least Squares   F-statistic:                     4.500\n",
      "Date:                Tue, 28 Jan 2025   Prob (F-statistic):              0.124\n",
      "Time:                        12:32:56   Log-Likelihood:                -5.2598\n",
      "No. Observations:                   5   AIC:                             14.52\n",
      "Df Residuals:                       3   BIC:                             13.74\n",
      "Df Model:                           1                                         \n",
      "Covariance Type:            nonrobust                                         \n",
      "==============================================================================\n",
      "                 coef    std err          t      P>|t|      [0.025      0.975]\n",
      "------------------------------------------------------------------------------\n",
      "Intercept      2.2000      0.938      2.345      0.101      -0.785       5.185\n",
      "X              0.6000      0.283      2.121      0.124      -0.300       1.500\n",
      "==============================================================================\n",
      "Omnibus:                          nan   Durbin-Watson:                   2.017\n",
      "Prob(Omnibus):                    nan   Jarque-Bera (JB):                0.570\n",
      "Skew:                           0.289   Prob(JB):                        0.752\n",
      "Kurtosis:                       1.450   Cond. No.                         8.37\n",
      "==============================================================================\n",
      "\n",
      "Notes:\n",
      "[1] Standard Errors assume that the covariance matrix of the errors is correctly specified.\n"
     ]
    }
   ],
   "source": [
    "data = pd.DataFrame({'X': [1, 2, 3, 4, 5], 'y': [2, 4, 5, 4, 5]})\n",
    "model = smf.ols('y ~ X', data=data).fit()\n",
    "print(model.summary())\n"
   ]
  },
  {
   "cell_type": "markdown",
   "id": "f7532a59-fcb8-487c-8870-655f77feb9a6",
   "metadata": {},
   "source": [
    "# Logistic Regression"
   ]
  },
  {
   "cell_type": "code",
   "execution_count": 132,
   "id": "def0cd43-52aa-4b8a-88cd-0eb869772da5",
   "metadata": {},
   "outputs": [
    {
     "name": "stdout",
     "output_type": "stream",
     "text": [
      "Optimization terminated successfully.\n",
      "         Current function value: 0.630237\n",
      "         Iterations 5\n",
      "                           Logit Regression Results                           \n",
      "==============================================================================\n",
      "Dep. Variable:                      y   No. Observations:                    5\n",
      "Model:                          Logit   Df Residuals:                        3\n",
      "Method:                           MLE   Df Model:                            1\n",
      "Date:                Tue, 28 Jan 2025   Pseudo R-squ.:                 0.06356\n",
      "Time:                        12:33:02   Log-Likelihood:                -3.1512\n",
      "converged:                       True   LL-Null:                       -3.3651\n",
      "Covariance Type:            nonrobust   LLR p-value:                    0.5131\n",
      "==============================================================================\n",
      "                 coef    std err          z      P>|z|      [0.025      0.975]\n",
      "------------------------------------------------------------------------------\n",
      "Intercept     -0.8749      2.197     -0.398      0.690      -5.181       3.431\n",
      "X              0.4395      0.700      0.628      0.530      -0.932       1.811\n",
      "==============================================================================\n"
     ]
    }
   ],
   "source": [
    "data = pd.DataFrame({'X': [1, 2, 3, 4, 5], 'y': [0, 1, 1, 0, 1]})\n",
    "model = smf.logit('y ~ X', data=data).fit()\n",
    "print(model.summary())\n"
   ]
  },
  {
   "cell_type": "markdown",
   "id": "d8408408-ebfb-4353-ae1f-b5640053a907",
   "metadata": {},
   "source": [
    "# Time Series Analysis"
   ]
  },
  {
   "cell_type": "code",
   "execution_count": 134,
   "id": "4bf1e7a1-3af7-4f7f-8037-084404ede449",
   "metadata": {},
   "outputs": [
    {
     "name": "stdout",
     "output_type": "stream",
     "text": [
      "                               SARIMAX Results                                \n",
      "==============================================================================\n",
      "Dep. Variable:                      y   No. Observations:                    9\n",
      "Model:                 ARIMA(1, 1, 1)   Log Likelihood                 -43.412\n",
      "Date:                Tue, 28 Jan 2025   AIC                             92.824\n",
      "Time:                        12:33:05   BIC                             93.063\n",
      "Sample:                             0   HQIC                            91.217\n",
      "                                  - 9                                         \n",
      "Covariance Type:                  opg                                         \n",
      "==============================================================================\n",
      "                 coef    std err          z      P>|z|      [0.025      0.975]\n",
      "------------------------------------------------------------------------------\n",
      "ar.L1         -0.2696      0.796     -0.339      0.735      -1.830       1.291\n",
      "ma.L1         -0.9953     62.470     -0.016      0.987    -123.434     121.443\n",
      "sigma2      2184.3919   1.35e+05      0.016      0.987   -2.63e+05    2.67e+05\n",
      "===================================================================================\n",
      "Ljung-Box (L1) (Q):                   0.40   Jarque-Bera (JB):                 0.59\n",
      "Prob(Q):                              0.53   Prob(JB):                         0.75\n",
      "Heteroskedasticity (H):               0.64   Skew:                             0.64\n",
      "Prob(H) (two-sided):                  0.72   Kurtosis:                         2.64\n",
      "===================================================================================\n",
      "\n",
      "Warnings:\n",
      "[1] Covariance matrix calculated using the outer product of gradients (complex-step).\n"
     ]
    }
   ],
   "source": [
    "# ARIMA Model\n",
    "from statsmodels.tsa.arima.model import ARIMA\n",
    "\n",
    "data = [266, 145, 183, 119, 180, 169, 232, 148, 123]\n",
    "model = ARIMA(data, order=(1, 1, 1))\n",
    "results = model.fit()\n",
    "print(results.summary())\n"
   ]
  },
  {
   "cell_type": "markdown",
   "id": "0dfadd9c-a7c4-4b0c-9bee-f5113f09b4a6",
   "metadata": {},
   "source": [
    "# Hypothesis Testing with statsmodels"
   ]
  },
  {
   "cell_type": "code",
   "execution_count": 136,
   "id": "e19027af-cf1c-4203-a5cd-b6193ed8956b",
   "metadata": {},
   "outputs": [
    {
     "name": "stdout",
     "output_type": "stream",
     "text": [
      "Z-statistic: -0.8660254037844386, p-value: 0.3864762307712327\n"
     ]
    }
   ],
   "source": [
    "from statsmodels.stats.weightstats import ztest\n",
    "\n",
    "data1 = [10, 20, 30]\n",
    "data2 = [15, 25, 35]\n",
    "z_stat, p_val = ztest(data1, value=25)\n",
    "print(f\"Z-statistic: {z_stat}, p-value: {p_val}\")\n"
   ]
  },
  {
   "cell_type": "markdown",
   "id": "bcadd0a7-4690-47d4-b318-ac5f9448f856",
   "metadata": {},
   "source": [
    "# Plotting Regression Results"
   ]
  },
  {
   "cell_type": "code",
   "execution_count": 138,
   "id": "e7da7707-325b-4a7b-a728-42f8eabda23f",
   "metadata": {},
   "outputs": [
    {
     "data": {
      "image/png": "[encoded data removed]",
      "text/plain": [
       "<Figure size 640x480 with 1 Axes>"
      ]
     },
     "metadata": {},
     "output_type": "display_data"
    }
   ],
   "source": [
    "import matplotlib.pyplot as plt\n",
    "\n",
    "data = pd.DataFrame({'X': [1, 2, 3, 4, 5], 'y': [2, 4, 5, 4, 5]})\n",
    "model = smf.ols('y ~ X', data=data).fit()\n",
    "\n",
    "plt.scatter(data['X'], data['y'], color='blue', label='Data')\n",
    "plt.plot(data['X'], model.predict(), color='red', label='Regression Line')\n",
    "plt.legend()\n",
    "plt.show()\n"
   ]
  },
  {
   "cell_type": "code",
   "execution_count": null,
   "id": "492bf095-deb5-44ec-852f-bec0ba843afa",
   "metadata": {},
   "outputs": [],
   "source": []
  }
 ],
 "metadata": {
  "kernelspec": {
   "display_name": "Python 3 (ipykernel)",
   "language": "python",
   "name": "python3"
  },
  "language_info": {
   "codemirror_mode": {
    "name": "ipython",
    "version": 3
   },
   "file_extension": ".py",
   "mimetype": "text/x-python",
   "name": "python",
   "nbconvert_exporter": "python",
   "pygments_lexer": "ipython3",
   "version": "3.12.7"
  }
 },
 "nbformat": 4,
 "nbformat_minor": 5
}
